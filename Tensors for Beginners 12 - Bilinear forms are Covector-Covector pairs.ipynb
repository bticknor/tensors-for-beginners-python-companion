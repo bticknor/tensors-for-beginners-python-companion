{
 "cells": [
  {
   "cell_type": "code",
   "execution_count": 46,
   "metadata": {},
   "outputs": [],
   "source": [
    "from sympy import symbols, Array, tensorproduct\n",
    "import numpy as np"
   ]
  },
  {
   "cell_type": "markdown",
   "metadata": {},
   "source": [
    "## Computing a Kronecker product of two general covectors (in R^2)\n",
    "\n",
    "https://docs.sympy.org/latest/modules/tensor/array.html#examples"
   ]
  },
  {
   "cell_type": "code",
   "execution_count": 116,
   "metadata": {},
   "outputs": [
    {
     "name": "stdout",
     "output_type": "stream",
     "text": [
      "We've constructed two general covectors, which are represented by the following 1x2 arrays:\n",
      "a [a1, a2]\n",
      "b [b1, b2]\n",
      "Let's take the Kronecker product of these arrays:\n",
      "[[a1*b1, a1*b2], [a2*b1, a2*b2]]\n"
     ]
    }
   ],
   "source": [
    "a1, a2, b1, b2 = symbols(\"a1 a2 b1 b2\")\n",
    "\n",
    "# build our general covectors\n",
    "a = Array([a1, a2])\n",
    "b = Array([b1, b2])\n",
    "\n",
    "print(\"We've constructed two general covectors, which are represented by the following 1x2 arrays:\")\n",
    "print(\"a\", a)\n",
    "print(\"b\", b)\n",
    "\n",
    "print(\"Let's take the Kronecker product of these arrays:\")\n",
    "# Kronecker product of arrays\n",
    "c = tensorproduct(a, b)\n",
    "print(c)\n"
   ]
  },
  {
   "cell_type": "markdown",
   "metadata": {},
   "source": [
    "## (Example) Building a specific bilinear form out of two specific covectors (in R^2)\n",
    "\n",
    "Here we construct coefficients for a specific bilinear form using sympy.tensorproduct.  A similar operation exists in NumPy as numpy.kron(), though it flattens the output matrix."
   ]
  },
  {
   "cell_type": "code",
   "execution_count": 118,
   "metadata": {},
   "outputs": [
    {
     "name": "stdout",
     "output_type": "stream",
     "text": [
      "Covectors:\n",
      "d [1, 2]\n",
      "e [3, 4]\n",
      "Bilinear form - d (x) e:\n",
      "[[3, 4], [6, 8]]\n"
     ]
    }
   ],
   "source": [
    "d = Array([1, 2])\n",
    "e = Array([3, 4])\n",
    "\n",
    "print(\"Covectors:\")\n",
    "print(\"d\", d)\n",
    "print(\"e\", e)\n",
    "\n",
    "# take the Kronecker product\n",
    "bilin_form = tensorproduct(d, e)\n",
    "\n",
    "\n",
    "print(\"Bilinear form - d (x) e:\")\n",
    "print(bilin_form)\n"
   ]
  },
  {
   "cell_type": "markdown",
   "metadata": {},
   "source": [
    "## Multiplying a general bilinear form by two vectors (TODO)\n",
    "\n",
    "TODO: talk about one at a time contraction TODO\n",
    "\n",
    "I'm doing tensor multiplication/application using NumPy's np.tensordot method, as it wasn't clear to me how to do the equivalent in SymPy.\n"
   ]
  },
  {
   "cell_type": "code",
   "execution_count": 151,
   "metadata": {},
   "outputs": [
    {
     "name": "stdout",
     "output_type": "stream",
     "text": [
      "Our bilinar form B, represented by a row of rows - in this case a (1x2x2) Numpy array: \n",
      "\n",
      "[[[B11 B12]\n",
      "  [B21 B22]]] \n",
      "\n",
      "Shape: (1, 2, 2) \n",
      "\n",
      "Multiply B by the first vector V, we end up with a simple covector/row, represented by a (1x2x1) array: \n",
      "\n",
      "[[[B11*v1 + B21*v2]\n",
      "  [B12*v1 + B22*v2]]] \n",
      "\n",
      "Shape: (1, 2, 1) \n",
      "\n",
      "Multiply the resulting covector by the second vector, performing another contraction into a scalar - a (1x1x1 array): \n",
      "\n",
      "[[[w1*(B11*v1 + B21*v2) + w2*(B12*v1 + B22*v2)]]]\n",
      "Shape: (1, 1, 1)\n"
     ]
    }
   ],
   "source": [
    "# Construct a general bilinear form\n",
    "B11, B12, B21, B22 = symbols(\"B11 B12 B21 B22\")\n",
    "# this is represented by a row of rows, or a (1x2x2) NumPy array\n",
    "print(\"Our bilinar form B, represented by a row of rows - in this case a (1x2x2) Numpy array:\", '\\n')\n",
    "B = np.array([[[B11, B12], [B21, B22]]])\n",
    "print(B, '\\n')\n",
    "print(\"Shape:\", B.shape, '\\n')\n",
    "\n",
    "# construct two vectors\n",
    "v1, v2, w1, w2 = symbols(\"v1 v2 w1 w2\")\n",
    "v = np.array([[v1], [v2]])\n",
    "w = np.array([[w1], [w2]])\n",
    "\n",
    "# multiply the bilinear form by the first vector\n",
    "after_first_multiplication = np.tensordot(B, v, ((1), (0)))\n",
    "print(\"Multiply B by the first vector V, we end up with a simple covector/row, represented by a (1x2x1) array:\", '\\n')\n",
    "print(after_first_multiplication, '\\n')\n",
    "print(\"Shape:\", after_first_multiplication.shape, '\\n')\n",
    "\n",
    "# multiply the resulting covector by the second vector\n",
    "print(\"Multiply the resulting covector by the second vector, performing another contraction into a scalar - a (1x1x1 array):\", '\\n')\n",
    "res = np.tensordot(after_first_multiplication, w, ((1), (0)))\n",
    "print(res)\n",
    "print(\"Shape:\", res.shape)"
   ]
  },
  {
   "cell_type": "code",
   "execution_count": null,
   "metadata": {},
   "outputs": [],
   "source": []
  },
  {
   "cell_type": "markdown",
   "metadata": {},
   "source": [
    "## (Example) Multiplying a specific bilinear form by two vectors (TODO)\n",
    "\n"
   ]
  },
  {
   "cell_type": "code",
   "execution_count": null,
   "metadata": {},
   "outputs": [],
   "source": []
  },
  {
   "cell_type": "code",
   "execution_count": null,
   "metadata": {},
   "outputs": [],
   "source": []
  }
 ],
 "metadata": {
  "kernelspec": {
   "display_name": "Python 3",
   "language": "python",
   "name": "python3"
  },
  "language_info": {
   "codemirror_mode": {
    "name": "ipython",
    "version": 3
   },
   "file_extension": ".py",
   "mimetype": "text/x-python",
   "name": "python",
   "nbconvert_exporter": "python",
   "pygments_lexer": "ipython3",
   "version": "3.6.9"
  }
 },
 "nbformat": 4,
 "nbformat_minor": 4
}
