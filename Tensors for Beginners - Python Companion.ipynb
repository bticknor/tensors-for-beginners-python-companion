{
 "cells": [
  {
   "cell_type": "markdown",
   "metadata": {},
   "source": [
    "# Tensors for Beginners - Python Companion\n",
    "\n",
    "The code in this notebook accompanies the YouTube video series `Tensors for Beginners`, published by user `eigenchris`, which can be found here:\n",
    "\n",
    "https://www.youtube.com/playlist?list=PLJHszsWbB6hrkmmq57lX8BV-o-YIOFsiG\n",
    "\n",
    "The notebook is organized by video, with material relevant for a certain video under the header corresponding to that video's title.\n",
    "\n",
    "I found it helpful to play around with tensors in an interactive environment as I worked my way through the videos, and I think that it contributed to my understanding of the material.  I figured that I'd organize and publish my scratch work in case anybody else might find it helpful as a starting point - please hack it up!\n",
    "\n",
    "Feel free to make additions and submit a pull request!\n",
    "\n",
    "Thank you `eigenchris` for making such a valuable video series.  Both the instruction of specific topics and the overall logical flow of the series is very clear.\n",
    "\n",
    "-Ben\n"
   ]
  },
  {
   "cell_type": "code",
   "execution_count": 15,
   "metadata": {},
   "outputs": [],
   "source": [
    "from sympy import symbols, Array, tensorproduct\n",
    "import numpy as np"
   ]
  },
  {
   "cell_type": "markdown",
   "metadata": {},
   "source": [
    "# ------------------------------------------------------------------------------------------------\n",
    "# Tensors for Beginners 11: Linear maps are Vector-Covector Pairs\n",
    "\n",
    "Code for this video includes that which constructs a general linear map out basis vectors in R^2, and that which constructs a specific linear map out of basis vectors in R^2 and applies it to a vector."
   ]
  },
  {
   "cell_type": "markdown",
   "metadata": {},
   "source": [
    "## Constructing a linear map out of basis vectors and covectors in R^2\n",
    "\n",
    "Here we use the standard R^2 basis vectors and covectors to construct a general linear map, represented by a 2x2 NumPy array.  We can index this array from Python just as is implied by it's Einstein notation representation, by it's dual index (L[x][y])."
   ]
  },
  {
   "cell_type": "code",
   "execution_count": 3,
   "metadata": {},
   "outputs": [
    {
     "name": "stdout",
     "output_type": "stream",
     "text": [
      "[[a b]\n",
      " [c d]]\n",
      "\n",
      "\n",
      "a\n"
     ]
    }
   ],
   "source": [
    "# build basis vectors\n",
    "e1 = np.array([[1], [0]])\n",
    "e2 = np.array([[0], [1]])\n",
    "\n",
    "# build basis covectors - represented by 1x2 arrays\n",
    "eps1 = np.array([[1, 0]])\n",
    "eps2 = np.array([[0, 1]])\n",
    "\n",
    "e1eps1 = np.kron(e1, eps1)\n",
    "e1eps2 = np.kron(e1, eps2)\n",
    "e2eps1 = np.kron(e2, eps1)\n",
    "e2eps2 = np.kron(e2, eps2)\n",
    "\n",
    "a, b, c, d = symbols(\"a b c d\")\n",
    "\n",
    "L = a * e1eps1 + b * e1eps2 + c * e2eps1 + d * e2eps2\n",
    "\n",
    "print(L)\n",
    "print('\\n')\n",
    "print(L[0][0])"
   ]
  },
  {
   "cell_type": "markdown",
   "metadata": {},
   "source": [
    "## Apply a linear map to a vector using tensor multiplication\n",
    "\n",
    "This is pretty trivial - we are essentially reproducing matrix multiplication rules using NumPy.tensordot and the right indices."
   ]
  },
  {
   "cell_type": "code",
   "execution_count": 4,
   "metadata": {},
   "outputs": [
    {
     "name": "stdout",
     "output_type": "stream",
     "text": [
      "[[ 4  5]\n",
      " [-1  8]] \n",
      "\n",
      "[[2]\n",
      " [4]] \n",
      "\n",
      "Applying linear map to vector...\n",
      "[[28]\n",
      " [30]]\n"
     ]
    }
   ],
   "source": [
    "a = 4\n",
    "b = 5\n",
    "c = -1\n",
    "d = 8\n",
    "\n",
    "L_prime = a * e1eps1 + b * e1eps2 + c * e2eps1 + d * e2eps2\n",
    "\n",
    "print(L_prime, '\\n')\n",
    "v = np.array([[2], [4]])\n",
    "print(v, '\\n')\n",
    "\n",
    "print(\"Applying linear map to vector...\")\n",
    "res = np.tensordot(L_prime, v, ((1), (0)))\n",
    "\n",
    "print(res)"
   ]
  },
  {
   "cell_type": "markdown",
   "metadata": {},
   "source": [
    "# ------------------------------------------------------------------------------------------------\n",
    "# Tensors for Beginners 12: Bilinear forms are Covector-Covector pairs\n",
    "\n",
    "Included in this section is code to compute a Kronecker product of general covectors in R^2 and apply it to a pair of general vectors, and code to compute a Kronecker product of two specific vectors in R^2 and apply it to a pair of specific vectors in R^2 - both one at a time, and after combining the two vectors into their own rank (2, 0) tensor."
   ]
  },
  {
   "cell_type": "markdown",
   "metadata": {},
   "source": [
    "## Computing a Kronecker product of two general covectors (in R^2)\n",
    "\n",
    "Here we compute the Kronecker product of two covectors from R^2."
   ]
  },
  {
   "cell_type": "code",
   "execution_count": 16,
   "metadata": {},
   "outputs": [
    {
     "name": "stdout",
     "output_type": "stream",
     "text": [
      "We've constructed two general covectors, which are represented by the following 1x2 arrays:\n",
      "a [a1, a2]\n",
      "b [b1, b2]\n",
      "Let's take the Kronecker product of these arrays:\n",
      "[[a1*b1, a1*b2], [a2*b1, a2*b2]]\n"
     ]
    }
   ],
   "source": [
    "a1, a2, b1, b2 = symbols(\"a1 a2 b1 b2\")\n",
    "\n",
    "# build our general covectors\n",
    "a = Array([a1, a2])\n",
    "b = Array([b1, b2])\n",
    "\n",
    "print(\"We've constructed two general covectors, which are represented by the following 1x2 arrays:\")\n",
    "print(\"a\", a)\n",
    "print(\"b\", b)\n",
    "\n",
    "print(\"Let's take the Kronecker product of these arrays:\")\n",
    "# Kronecker product of arrays\n",
    "c = tensorproduct(a, b)\n",
    "print(c)\n"
   ]
  },
  {
   "cell_type": "markdown",
   "metadata": {},
   "source": [
    "## (Example) Building a specific bilinear form out of two specific covectors (in R^2)\n",
    "\n",
    "Here we construct coefficients for a specific bilinear form using sympy.tensorproduct.  A similar operation exists in NumPy as numpy.kron(), though it flattens the output matrix."
   ]
  },
  {
   "cell_type": "code",
   "execution_count": 118,
   "metadata": {},
   "outputs": [
    {
     "name": "stdout",
     "output_type": "stream",
     "text": [
      "Covectors:\n",
      "d [1, 2]\n",
      "e [3, 4]\n",
      "Bilinear form - d (x) e:\n",
      "[[3, 4], [6, 8]]\n"
     ]
    }
   ],
   "source": [
    "d = Array([1, 2])\n",
    "e = Array([3, 4])\n",
    "\n",
    "print(\"Covectors:\")\n",
    "print(\"d\", d)\n",
    "print(\"e\", e)\n",
    "\n",
    "# take the Kronecker product\n",
    "bilin_form = tensorproduct(d, e)\n",
    "\n",
    "\n",
    "print(\"Bilinear form - d (x) e:\")\n",
    "print(bilin_form)\n"
   ]
  },
  {
   "cell_type": "markdown",
   "metadata": {},
   "source": [
    "## Multiplying a general bilinear form by two vectors\n",
    "\n",
    "Here we build a rank (0, 2) tensor out of two general covectors in R^2 and sequentially apply it to two general vectors in R^2, the result being a general scalar - a 0 rank tensor represented by a 1x1x1 dimensional array.\n",
    "\n",
    "I'm doing tensor multiplication/application using NumPy's np.tensordot method, as the API for the equivalent operation in SymPy confused me a little (or at least the documentation did).\n"
   ]
  },
  {
   "cell_type": "code",
   "execution_count": 151,
   "metadata": {},
   "outputs": [
    {
     "name": "stdout",
     "output_type": "stream",
     "text": [
      "Our bilinar form B, represented by a row of rows - in this case a (1x2x2) Numpy array: \n",
      "\n",
      "[[[B11 B12]\n",
      "  [B21 B22]]] \n",
      "\n",
      "Shape: (1, 2, 2) \n",
      "\n",
      "Multiply B by the first vector V, we end up with a simple covector/row, represented by a (1x2x1) array: \n",
      "\n",
      "[[[B11*v1 + B21*v2]\n",
      "  [B12*v1 + B22*v2]]] \n",
      "\n",
      "Shape: (1, 2, 1) \n",
      "\n",
      "Multiply the resulting covector by the second vector, performing another contraction into a scalar - a (1x1x1 array): \n",
      "\n",
      "[[[w1*(B11*v1 + B21*v2) + w2*(B12*v1 + B22*v2)]]]\n",
      "Shape: (1, 1, 1)\n"
     ]
    }
   ],
   "source": [
    "# Construct a general bilinear form\n",
    "B11, B12, B21, B22 = symbols(\"B11 B12 B21 B22\")\n",
    "# this is represented by a row of rows, or a (1x2x2) NumPy array\n",
    "print(\"Our bilinar form B, represented by a row of rows - in this case a (1x2x2) Numpy array:\", '\\n')\n",
    "B = np.array([[[B11, B12], [B21, B22]]])\n",
    "print(B, '\\n')\n",
    "print(\"Shape:\", B.shape, '\\n')\n",
    "\n",
    "# construct two vectors\n",
    "v1, v2, w1, w2 = symbols(\"v1 v2 w1 w2\")\n",
    "v = np.array([[v1], [v2]])\n",
    "w = np.array([[w1], [w2]])\n",
    "\n",
    "# multiply the bilinear form by the first vector\n",
    "after_first_multiplication = np.tensordot(B, v, ((1), (0)))\n",
    "print(\"Multiply B by the first vector V, we end up with a simple covector/row, represented by a (1x2x1) array:\", '\\n')\n",
    "print(after_first_multiplication, '\\n')\n",
    "print(\"Shape:\", after_first_multiplication.shape, '\\n')\n",
    "\n",
    "# multiply the resulting covector by the second vector\n",
    "print(\"Multiply the resulting covector by the second vector, performing another contraction into a scalar - a (1x1x1 array):\", '\\n')\n",
    "res = np.tensordot(after_first_multiplication, w, ((1), (0)))\n",
    "print(res)\n",
    "print(\"Shape:\", res.shape)"
   ]
  },
  {
   "cell_type": "markdown",
   "metadata": {},
   "source": [
    "## (Example) Multiplying a specific bilinear form by two vectors\n",
    "\n",
    "In this cell we build a bilinear form out of covectors from R^2, then sequentially apply it to two R^2 vectors.  Then we combine the two vectors (rank (1, 0) tensors) we've built into new rank (2, 0) tensor using the Kronecker product, and apply the same bilinear form to that tensor, getting the same result - a (0, 0) rank tensor.\n"
   ]
  },
  {
   "cell_type": "code",
   "execution_count": 27,
   "metadata": {},
   "outputs": [
    {
     "name": "stdout",
     "output_type": "stream",
     "text": [
      "Our bilinar form B, represented by a row of rows - in this case a (1x2x2) Numpy array: \n",
      "\n",
      "[[[2 3]\n",
      "  [1 4]]] \n",
      "\n",
      "Shape: (1, 2, 2) \n",
      "\n",
      "Two vectors:\n",
      "[[4]\n",
      " [5]]\n",
      "\n",
      "\n",
      "[[2]\n",
      " [3]]\n",
      "\n",
      "\n",
      "Applying the bilinear form to the two vectors, one at a time:\n",
      "[[[13]\n",
      "  [32]]] \n",
      "\n",
      "Result... \n",
      "\n",
      "[[[122]]] \n",
      "\n",
      "now let's combine the two vectors into a rank (2, 0) tensor A and apply B to it\n",
      "A - a rank (2, 0) tensor:\n",
      "[[[ 8]\n",
      "  [12]]\n",
      "\n",
      " [[10]\n",
      "  [15]]] \n",
      "\n",
      "(2, 2, 1)\n",
      "Applying B to A... \n",
      "\n",
      "Result... \n",
      "\n",
      "[[122]]\n"
     ]
    }
   ],
   "source": [
    "# Build a bilinear form\n",
    "\n",
    "B = np.array([[[2, 3], [1, 4]]])\n",
    "print(\"Our bilinar form B, represented by a row of rows - in this case a (1x2x2) Numpy array:\", '\\n')\n",
    "print(B, '\\n')\n",
    "print(\"Shape:\", B.shape, '\\n')\n",
    "\n",
    "# Build two vectors\n",
    "v = np.array([[4], [5]])\n",
    "w = np.array([[2], [3]])\n",
    "print(\"Two vectors:\")\n",
    "print(v)\n",
    "print('\\n')\n",
    "print(w)\n",
    "print('\\n')\n",
    "\n",
    "# apply the bilinear form to the two vectors\n",
    "print(\"Applying the bilinear form to the two vectors, one at a time:\")\n",
    "res_1 = np.tensordot(B, v, ((1), (0)))\n",
    "print(res_1, '\\n')\n",
    "res_2 = np.tensordot(res_1, w, ((1), (0)))\n",
    "print(\"Result...\", '\\n')\n",
    "print(res_2, '\\n')\n",
    "\n",
    "print(\"now let's combine the two vectors into a rank (2, 0) tensor A and apply B to it\")\n",
    "\n",
    "# Kronecker product of v and w - we have to reshape the resulting array into the correct dimensions\n",
    "# because NumPy flattens it in the output...\n",
    "A = np.kron(v, w).reshape((2, 2, 1))\n",
    "print(\"A - a rank (2, 0) tensor:\")\n",
    "print(A, '\\n')\n",
    "print(A.shape)\n",
    "\n",
    "# doing the tensor application / contraction of B on A\n",
    "print(\"Applying B to A...\", '\\n')\n",
    "res_3 = np.tensordot(B, A, ((1, 2), (0, 1)))\n",
    "\n",
    "print(\"Result...\", '\\n')\n",
    "print(res_3)\n",
    "\n",
    "# check that the results are the same - the kronecker product operation is the inverse of the tensor contraction\n",
    "# operation\n",
    "assert res_3 == res_2"
   ]
  },
  {
   "cell_type": "markdown",
   "metadata": {},
   "source": [
    "# ------------------------------------------------------------------------------------------------\n",
    "# Tensors for Beginners 14: Tensors are general vector/covector combinations\n",
    "\n",
    "TODO explanation"
   ]
  },
  {
   "cell_type": "markdown",
   "metadata": {},
   "source": [
    "## Constructing tensors D and Q, generally\n",
    "\n",
    "Here we build representations of tensors D and Q using general arrays.  We'll build a complete basis for the spaces inhabited by D and Q using Kronecker products of our \"building block\" tensors - vectors and covectors, then multiply each basis element by some general coefficient"
   ]
  },
  {
   "cell_type": "code",
   "execution_count": 39,
   "metadata": {},
   "outputs": [
    {
     "name": "stdout",
     "output_type": "stream",
     "text": [
      "Let's slowly build D from scratch out of a pair of basis vectors... \n",
      "\n",
      "first we'll construct a basis for the space inhabited by D, by taking Kronecker products of possible combinations of basis vectors: \n",
      "\n",
      "here is our basis for ea (x) eb: \n",
      "\n",
      "[[[1]\n",
      "  [0]]\n",
      "\n",
      " [[0]\n",
      "  [0]]] \n",
      " [[[0]\n",
      "  [1]]\n",
      "\n",
      " [[0]\n",
      "  [0]]] \n",
      " [[[0]\n",
      "  [0]]\n",
      "\n",
      " [[1]\n",
      "  [0]]] \n",
      " [[[0]\n",
      "  [0]]\n",
      "\n",
      " [[0]\n",
      "  [1]]]\n",
      "let's set some arbitrary coefficients and dot our coefficients and our basis... \n",
      "\n",
      "Here is our general tensor D: \n",
      "\n",
      "[[[a]\n",
      "  [b]]\n",
      "\n",
      " [[c]\n",
      "  [d]]]\n",
      "Now let's build a basis for the vector space inhabited by Q using the Kronecker product of our bases: \n",
      "\n",
      "[[1 0]\n",
      " [0 0]]\n"
     ]
    }
   ],
   "source": [
    "# TODO!\n",
    "\n",
    "# build basis vectors\n",
    "e1 = np.array([[1], [0]])\n",
    "e2 = np.array([[0], [1]])\n",
    "\n",
    "# build basis covectors - represented by 1x2 arrays\n",
    "eps1 = np.array([[1, 0]])\n",
    "eps2 = np.array([[0, 1]])\n",
    "\n",
    "# take the\n",
    "print(\"Let's slowly build D from scratch out of a pair of basis vectors...\", '\\n')\n",
    "print(\"first we'll construct a basis for the space inhabited by D, by taking Kronecker products of possible combinations of basis vectors:\", '\\n')\n",
    "# we have to reshape the arrays from np.kron to \"de-flatten\" them\n",
    "# construct basis for vector space inhabited by D\n",
    "b1 = np.kron(e1, e1).reshape((2, 2, 1))\n",
    "b2 = np.kron(e1, e2).reshape((2, 2, 1))\n",
    "b3 = np.kron(e2, e1).reshape((2, 2, 1))\n",
    "b4 = np.kron(e2, e2).reshape((2, 2, 1))\n",
    "\n",
    "print(\"here is our basis for ea (x) eb:\", '\\n')\n",
    "print(b1, '\\n', b2, '\\n', b3, '\\n', b4)\n",
    "\n",
    "print(\"let's set some arbitrary coefficients and dot our coefficients and our basis...\", '\\n')\n",
    "a, b, c, d = symbols(\"a b c d\")\n",
    "D11 = a\n",
    "D12 = b\n",
    "D21 = c\n",
    "D22 = d\n",
    "\n",
    "# build D out of our general coefficients\n",
    "D = D11 * b1 + D12 * b2 + D21 * b3 + D22 * b4\n",
    "\n",
    "print(\"Here is our general tensor D:\", '\\n')\n",
    "print(D)\n",
    "\n",
    "print(\"Now let's build a basis for the vector space inhabited by Q using the Kronecker product of our bases:\", '\\n')\n",
    "b1Q = np.kron(e1, eps1)\n",
    "\n",
    "print(b1Q)\n",
    "\n",
    "## TODO: what is the array dimension?!?!\n"
   ]
  },
  {
   "cell_type": "code",
   "execution_count": 22,
   "metadata": {},
   "outputs": [],
   "source": [
    "# todo change of basis"
   ]
  },
  {
   "cell_type": "code",
   "execution_count": 44,
   "metadata": {},
   "outputs": [
    {
     "data": {
      "text/plain": [
       "array([[1, 0, 0, 0],\n",
       "       [0, 0, 0, 0]])"
      ]
     },
     "execution_count": 44,
     "metadata": {},
     "output_type": "execute_result"
    }
   ],
   "source": [
    "np.kron(b1Q, eps1)"
   ]
  },
  {
   "cell_type": "code",
   "execution_count": 45,
   "metadata": {},
   "outputs": [
    {
     "data": {
      "text/plain": [
       "(2, 4)"
      ]
     },
     "execution_count": 45,
     "metadata": {},
     "output_type": "execute_result"
    }
   ],
   "source": [
    "np.kron(b1Q, eps1).shape"
   ]
  },
  {
   "cell_type": "code",
   "execution_count": 47,
   "metadata": {},
   "outputs": [
    {
     "data": {
      "text/plain": [
       "array([[[1, 0],\n",
       "        [0, 0]],\n",
       "\n",
       "       [[0, 0],\n",
       "        [0, 0]]])"
      ]
     },
     "execution_count": 47,
     "metadata": {},
     "output_type": "execute_result"
    }
   ],
   "source": [
    "# I think this is right\n",
    "np.kron(b1Q, eps1).reshape((2, 2, 2))"
   ]
  },
  {
   "cell_type": "code",
   "execution_count": null,
   "metadata": {},
   "outputs": [],
   "source": []
  }
 ],
 "metadata": {
  "kernelspec": {
   "display_name": "Python 3",
   "language": "python",
   "name": "python3"
  },
  "language_info": {
   "codemirror_mode": {
    "name": "ipython",
    "version": 3
   },
   "file_extension": ".py",
   "mimetype": "text/x-python",
   "name": "python",
   "nbconvert_exporter": "python",
   "pygments_lexer": "ipython3",
   "version": "3.6.9"
  }
 },
 "nbformat": 4,
 "nbformat_minor": 4
}
