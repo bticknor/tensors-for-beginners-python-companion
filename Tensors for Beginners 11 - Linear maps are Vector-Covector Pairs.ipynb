{
 "cells": [
  {
   "cell_type": "code",
   "execution_count": 17,
   "metadata": {},
   "outputs": [],
   "source": [
    "import numpy as np\n",
    "from sympy import symbols"
   ]
  },
  {
   "cell_type": "markdown",
   "metadata": {},
   "source": [
    "## Constructing a linear map out of basis vectors and covectors in R^2\n",
    "\n",
    "Here we use the standard R^2 basis vectors and covectors to construct a general linear map, represented by a 2x2 NumPy array.  We can index this array from Python just as is implied by it's Einstein notation representation, by it's dual index (L[x][y])."
   ]
  },
  {
   "cell_type": "code",
   "execution_count": 20,
   "metadata": {},
   "outputs": [
    {
     "name": "stdout",
     "output_type": "stream",
     "text": [
      "[[a b]\n",
      " [c d]]\n",
      "\n",
      "\n",
      "a\n"
     ]
    }
   ],
   "source": [
    "# build basis vectors\n",
    "e1 = np.array([[1], [0]])\n",
    "e2 = np.array([[0], [1]])\n",
    "\n",
    "# build basis covectors - represented by 1x2 arrays\n",
    "eps1 = np.array([[1, 0]])\n",
    "eps2 = np.array([[0, 1]])\n",
    "\n",
    "e1eps1 = np.kron(e1, eps1)\n",
    "e1eps2 = np.kron(e1, eps2)\n",
    "e2eps1 = np.kron(e2, eps1)\n",
    "e2eps2 = np.kron(e2, eps2)\n",
    "\n",
    "a, b, c, d = symbols(\"a b c d\")\n",
    "\n",
    "L = a * e1eps1 + b * e1eps2 + c * e2eps1 + d * e2eps2\n",
    "\n",
    "print(L)\n",
    "print('\\n')\n",
    "print(L[0][0])"
   ]
  },
  {
   "cell_type": "markdown",
   "metadata": {},
   "source": [
    "## Apply a linear map to a vector using tensor multiplication\n",
    "\n",
    "This is pretty trivial - we are essentially reproducing matrix multiplication rules using NumPy.tensordot and the right indices."
   ]
  },
  {
   "cell_type": "code",
   "execution_count": 25,
   "metadata": {},
   "outputs": [
    {
     "name": "stdout",
     "output_type": "stream",
     "text": [
      "[[ 4  5]\n",
      " [-1  8]] \n",
      "\n",
      "[[2]\n",
      " [4]] \n",
      "\n",
      "Applying linear map to vector...\n",
      "[[28]\n",
      " [30]]\n"
     ]
    }
   ],
   "source": [
    "a = 4\n",
    "b = 5\n",
    "c = -1\n",
    "d = 8\n",
    "\n",
    "L_prime = a * e1eps1 + b * e1eps2 + c * e2eps1 + d * e2eps2\n",
    "\n",
    "print(L_prime, '\\n')\n",
    "v = np.array([[2], [4]])\n",
    "print(v, '\\n')\n",
    "\n",
    "print(\"Applying linear map to vector...\")\n",
    "res = np.tensordot(L_prime, v, ((1), (0)))\n",
    "\n",
    "print(res)"
   ]
  },
  {
   "cell_type": "code",
   "execution_count": null,
   "metadata": {},
   "outputs": [],
   "source": []
  }
 ],
 "metadata": {
  "kernelspec": {
   "display_name": "Python 3",
   "language": "python",
   "name": "python3"
  },
  "language_info": {
   "codemirror_mode": {
    "name": "ipython",
    "version": 3
   },
   "file_extension": ".py",
   "mimetype": "text/x-python",
   "name": "python",
   "nbconvert_exporter": "python",
   "pygments_lexer": "ipython3",
   "version": "3.6.9"
  }
 },
 "nbformat": 4,
 "nbformat_minor": 4
}
